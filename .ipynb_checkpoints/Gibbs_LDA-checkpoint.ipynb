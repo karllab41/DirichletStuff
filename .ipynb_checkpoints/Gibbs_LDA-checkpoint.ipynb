{
 "cells": [
  {
   "cell_type": "markdown",
   "metadata": {},
   "source": [
    "# LDA inference using Gibbs sampling\n",
    "\n",
    "From theory to application, we can check out:\n",
    "\n",
    "https://liucanblog.wordpress.com/2014/01/11/lda-tutorial-from-theory-to-implementation-and-application-1/"
   ]
  },
  {
   "cell_type": "code",
   "execution_count": 1,
   "metadata": {
    "collapsed": false
   },
   "outputs": [],
   "source": [
    "import re\n",
    "import numpy as np\n",
    "\n",
    "# Get the vocabulary using regular expressions\n",
    "def docs2vocab( documents ):\n",
    "    \n",
    "    alldocs = \"\"\n",
    "    for doc in documents:\n",
    "        alldocs += doc\n",
    "    vocabulary = re.split('; |, | |\\.', alldocs)\n",
    "    vocabulary = filter( lambda(elt): elt!='', list(set(vocabulary)))\n",
    "    \n",
    "    return vocabulary\n",
    "\n",
    "# For a single document, translate it into it's vocabulary integers\n",
    "def doc2vocab( doc, vocab ):\n",
    "    \n",
    "    word2vocab = dict( zip( vocab, range(len(vocab))))\n",
    "    doc_words = re.split('; |, | |\\.', doc)\n",
    "    translated_words = [ word2vocab[word] for word in doc_words if word in word2vocab.keys() ]\n",
    "    \n",
    "    return translated_words\n",
    "\n",
    "# Take integer words, and translate them back to a list of ascii words\n",
    "def vocab2doc( translated, vocab ):\n",
    "    return [ vocabulary[ int_word ] for int_word in translated ]"
   ]
  },
  {
   "cell_type": "code",
   "execution_count": null,
   "metadata": {
    "collapsed": true
   },
   "outputs": [],
   "source": [
    "# Create a vocabulary from documents\n",
    "vocabulary = docs2vocab( documents )\n",
    "\n",
    "# Integer words, ascii words, and both words in list format\n",
    "document = documents[0]\n",
    "int_words = doc2vocab(document, vocabulary)\n",
    "ascii_words = vocab2doc( int_words, vocabulary )\n",
    "int_ascii = zip( int_words, ascii_words )"
   ]
  }
 ],
 "metadata": {
  "kernelspec": {
   "display_name": "Python 2",
   "language": "python",
   "name": "python2"
  },
  "language_info": {
   "codemirror_mode": {
    "name": "ipython",
    "version": 2
   },
   "file_extension": ".py",
   "mimetype": "text/x-python",
   "name": "python",
   "nbconvert_exporter": "python",
   "pygments_lexer": "ipython2",
   "version": "2.7.10"
  }
 },
 "nbformat": 4,
 "nbformat_minor": 0
}
